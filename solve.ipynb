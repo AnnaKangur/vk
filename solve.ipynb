{
 "cells": [
  {
   "cell_type": "code",
   "execution_count": 1,
   "metadata": {
    "execution": {
     "iopub.execute_input": "2024-03-07T19:50:32.490879Z",
     "iopub.status.busy": "2024-03-07T19:50:32.490239Z",
     "iopub.status.idle": "2024-03-07T19:50:32.516342Z",
     "shell.execute_reply": "2024-03-07T19:50:32.515643Z",
     "shell.execute_reply.started": "2024-03-07T19:50:32.490842Z"
    }
   },
   "outputs": [],
   "source": [
    "import pandas as pd\n",
    "import numpy as np"
   ]
  },
  {
   "cell_type": "code",
   "execution_count": 2,
   "metadata": {
    "execution": {
     "iopub.execute_input": "2024-03-07T19:50:32.599960Z",
     "iopub.status.busy": "2024-03-07T19:50:32.599191Z",
     "iopub.status.idle": "2024-03-07T19:50:32.705852Z",
     "shell.execute_reply": "2024-03-07T19:50:32.705194Z",
     "shell.execute_reply.started": "2024-03-07T19:50:32.599915Z"
    },
    "tags": []
   },
   "outputs": [],
   "source": [
    "dataset_train = pd.read_csv('trainee_train.csv', index_col=0)\n",
    "# dataset_train.head()\n",
    "dataset_test = pd.read_csv('trainee_test_fish.csv', index_col=0)"
   ]
  },
  {
   "cell_type": "code",
   "execution_count": 3,
   "metadata": {
    "execution": {
     "iopub.execute_input": "2024-03-07T19:50:32.707477Z",
     "iopub.status.busy": "2024-03-07T19:50:32.707002Z",
     "iopub.status.idle": "2024-03-07T19:50:32.718373Z",
     "shell.execute_reply": "2024-03-07T19:50:32.717740Z",
     "shell.execute_reply.started": "2024-03-07T19:50:32.707447Z"
    },
    "tags": []
   },
   "outputs": [
    {
     "data": {
      "text/plain": [
       "(616, 447)"
      ]
     },
     "execution_count": 3,
     "metadata": {},
     "output_type": "execute_result"
    }
   ],
   "source": [
    "dataset_train.shape"
   ]
  },
  {
   "cell_type": "code",
   "execution_count": 4,
   "metadata": {
    "execution": {
     "iopub.execute_input": "2024-03-07T19:50:32.821361Z",
     "iopub.status.busy": "2024-03-07T19:50:32.820759Z",
     "iopub.status.idle": "2024-03-07T19:50:32.833376Z",
     "shell.execute_reply": "2024-03-07T19:50:32.832761Z",
     "shell.execute_reply.started": "2024-03-07T19:50:32.821332Z"
    },
    "tags": []
   },
   "outputs": [
    {
     "data": {
      "text/plain": [
       "(216, 446)"
      ]
     },
     "execution_count": 4,
     "metadata": {},
     "output_type": "execute_result"
    }
   ],
   "source": [
    "dataset_test.shape"
   ]
  },
  {
   "cell_type": "code",
   "execution_count": 5,
   "metadata": {
    "execution": {
     "iopub.execute_input": "2024-03-07T19:50:32.916105Z",
     "iopub.status.busy": "2024-03-07T19:50:32.915481Z",
     "iopub.status.idle": "2024-03-07T19:50:32.930479Z",
     "shell.execute_reply": "2024-03-07T19:50:32.929698Z",
     "shell.execute_reply.started": "2024-03-07T19:50:32.916066Z"
    },
    "tags": []
   },
   "outputs": [
    {
     "data": {
      "text/plain": [
       "Counter({0.0: 174, 1.0: 442})"
      ]
     },
     "execution_count": 5,
     "metadata": {},
     "output_type": "execute_result"
    }
   ],
   "source": [
    "from collections import Counter\n",
    "Counter(dataset_train[\"im\"])"
   ]
  },
  {
   "cell_type": "markdown",
   "metadata": {
    "execution": {
     "iopub.execute_input": "2024-03-06T14:35:35.015966Z",
     "iopub.status.busy": "2024-03-06T14:35:35.015266Z",
     "iopub.status.idle": "2024-03-06T14:35:35.026898Z",
     "shell.execute_reply": "2024-03-06T14:35:35.026153Z",
     "shell.execute_reply.started": "2024-03-06T14:35:35.015927Z"
    },
    "tags": []
   },
   "source": [
    "На train-е **сильный дисбаланс классов**: 174 к 442 (почти в 2.5 раза разница)\n",
    "1. уменьшать данные второго класса приведет к потери большого количества информации\n",
    "2. можно применить алгоритм устойчивый к дисбалансу классов (град бустинг, деревья или svd)\n",
    "\n",
    "нейронки не имеет смысла применять тк мало данных"
   ]
  },
  {
   "cell_type": "code",
   "execution_count": 6,
   "metadata": {
    "execution": {
     "iopub.execute_input": "2024-03-07T19:50:33.033693Z",
     "iopub.status.busy": "2024-03-07T19:50:33.033013Z",
     "iopub.status.idle": "2024-03-07T19:50:33.403408Z",
     "shell.execute_reply": "2024-03-07T19:50:33.402572Z",
     "shell.execute_reply.started": "2024-03-07T19:50:33.033655Z"
    },
    "tags": []
   },
   "outputs": [],
   "source": [
    "# Загрузка\n",
    "X_train = dataset_train.drop(\"im\", axis=1)\n",
    "Y_train = dataset_train[\"im\"] \n",
    "X_test = dataset_test\n",
    "\n",
    "# Стандартизация\n",
    "from sklearn.preprocessing import StandardScaler\n",
    "scaler = StandardScaler()\n",
    "scaler.fit(X_train)\n",
    "X_train = scaler.transform(X_train)\n",
    "X_test = scaler.transform(X_test)\n",
    "\n",
    "# Разделение на обучающую и валидационную\n",
    "from sklearn.model_selection import train_test_split\n",
    "X_train, X_val, y_train, y_val = train_test_split(X_train, Y_train, test_size=0.2, random_state=42)"
   ]
  },
  {
   "cell_type": "markdown",
   "metadata": {},
   "source": [
    "# Уменьшение мультиколлинеарности и оптимизация признаков"
   ]
  },
  {
   "cell_type": "markdown",
   "metadata": {},
   "source": [
    "**Избыточное количество скоррелированных столбцов**:\n",
    "1. можно удалить один из скоррелированных столбцов\n",
    "2. добавить L1 регуляризрцию\n",
    "3. применить PCA для уменьшения размерности\n",
    "4. использовать \"деревянные\" модели для отбора признаков"
   ]
  },
  {
   "cell_type": "code",
   "execution_count": 7,
   "metadata": {
    "execution": {
     "iopub.execute_input": "2024-03-07T19:50:33.405226Z",
     "iopub.status.busy": "2024-03-07T19:50:33.404519Z",
     "iopub.status.idle": "2024-03-07T19:50:33.428761Z",
     "shell.execute_reply": "2024-03-07T19:50:33.428037Z",
     "shell.execute_reply.started": "2024-03-07T19:50:33.405190Z"
    },
    "tags": []
   },
   "outputs": [],
   "source": [
    "class RemoveColumnsCorr():\n",
    "    \n",
    "    def __init__(self):\n",
    "        self.corr_cols = []\n",
    "\n",
    "    def fit(self, X, porog):\n",
    "        corr_matrix = np.corrcoef(X, rowvar=False)\n",
    "        self.corr_cols = []\n",
    "        for i in range(corr_matrix.shape[0]):\n",
    "            for j in range(i + 1, corr_matrix.shape[1]):\n",
    "                if abs(corr_matrix[i][j]) > porog and j not in self.corr_cols:\n",
    "                    self.corr_cols.append(j)\n",
    "    \n",
    "    def transform(self, X):\n",
    "        return np.delete(X, self.corr_cols, axis=1)\n",
    "    \n",
    "# data = RemoveColumnsCorr()\n",
    "# data.fit(X_train)\n",
    "# data.transform(X_train).shape"
   ]
  },
  {
   "cell_type": "code",
   "execution_count": 8,
   "metadata": {
    "execution": {
     "iopub.execute_input": "2024-03-07T19:50:33.430851Z",
     "iopub.status.busy": "2024-03-07T19:50:33.430268Z",
     "iopub.status.idle": "2024-03-07T19:50:33.466623Z",
     "shell.execute_reply": "2024-03-07T19:50:33.465927Z",
     "shell.execute_reply.started": "2024-03-07T19:50:33.430825Z"
    },
    "tags": []
   },
   "outputs": [],
   "source": [
    "import matplotlib.pyplot as plt\n",
    "from sklearn.decomposition import PCA\n",
    "\n",
    "# pca = PCA(n_components=60)\n",
    "# pca.fit(X_train)\n",
    "# pca.transform(X_train).shape"
   ]
  },
  {
   "cell_type": "code",
   "execution_count": 9,
   "metadata": {
    "execution": {
     "iopub.execute_input": "2024-03-07T19:50:33.468215Z",
     "iopub.status.busy": "2024-03-07T19:50:33.467815Z",
     "iopub.status.idle": "2024-03-07T19:50:33.500141Z",
     "shell.execute_reply": "2024-03-07T19:50:33.499449Z",
     "shell.execute_reply.started": "2024-03-07T19:50:33.468182Z"
    },
    "tags": []
   },
   "outputs": [],
   "source": [
    "from sklearn.ensemble import RandomForestClassifier\n",
    "import matplotlib.pyplot as plt\n",
    "\n",
    "class RemoveColumnsRF():\n",
    "    \n",
    "    def __init__(self):\n",
    "        self.feature_importances = []\n",
    "        self.porog = 0.004\n",
    "\n",
    "    def fit(self, X, y):\n",
    "        model = RandomForestClassifier()\n",
    "        model.fit(X, y)\n",
    "        self.feature_importances = model.feature_importances_\n",
    "        # Отображение важности признаков\n",
    "        # plt.figure(figsize=(10, 6))\n",
    "        # plt.bar(range(len(feature_importances)), feature_importances, tick_label=feature_names)\n",
    "        # plt.xlabel('Признаки')\n",
    "        # plt.ylabel('Важность признака')\n",
    "        # plt.title('Важность признаков с использованием RandomForest')\n",
    "        # plt.xticks(rotation=45)\n",
    "        # plt.show()\n",
    "        \n",
    "    def transform(self, X):\n",
    "        indices = np.where(self.feature_importances > self.porog)[0]\n",
    "        return X[:, indices]\n",
    "    \n",
    "# rcRF = RemoveColumnsRF()\n",
    "# rcRF.fit(X_train, y_train)\n",
    "# rcRF.transform(X_train).shape "
   ]
  },
  {
   "cell_type": "markdown",
   "metadata": {},
   "source": [
    "# Обучение"
   ]
  },
  {
   "cell_type": "code",
   "execution_count": 10,
   "metadata": {
    "execution": {
     "iopub.execute_input": "2024-03-07T19:50:33.501605Z",
     "iopub.status.busy": "2024-03-07T19:50:33.501029Z",
     "iopub.status.idle": "2024-03-07T19:50:33.557459Z",
     "shell.execute_reply": "2024-03-07T19:50:33.556615Z",
     "shell.execute_reply.started": "2024-03-07T19:50:33.501568Z"
    },
    "tags": []
   },
   "outputs": [],
   "source": [
    "Corr = RemoveColumnsCorr()\n",
    "Corr.fit(X_train, porog=0.5)"
   ]
  },
  {
   "cell_type": "code",
   "execution_count": 11,
   "metadata": {
    "execution": {
     "iopub.execute_input": "2024-03-07T19:50:33.559375Z",
     "iopub.status.busy": "2024-03-07T19:50:33.558796Z",
     "iopub.status.idle": "2024-03-07T19:50:33.638650Z",
     "shell.execute_reply": "2024-03-07T19:50:33.637871Z",
     "shell.execute_reply.started": "2024-03-07T19:50:33.559324Z"
    },
    "tags": []
   },
   "outputs": [
    {
     "data": {
      "text/html": [
       "<style>#sk-container-id-1 {color: black;background-color: white;}#sk-container-id-1 pre{padding: 0;}#sk-container-id-1 div.sk-toggleable {background-color: white;}#sk-container-id-1 label.sk-toggleable__label {cursor: pointer;display: block;width: 100%;margin-bottom: 0;padding: 0.3em;box-sizing: border-box;text-align: center;}#sk-container-id-1 label.sk-toggleable__label-arrow:before {content: \"▸\";float: left;margin-right: 0.25em;color: #696969;}#sk-container-id-1 label.sk-toggleable__label-arrow:hover:before {color: black;}#sk-container-id-1 div.sk-estimator:hover label.sk-toggleable__label-arrow:before {color: black;}#sk-container-id-1 div.sk-toggleable__content {max-height: 0;max-width: 0;overflow: hidden;text-align: left;background-color: #f0f8ff;}#sk-container-id-1 div.sk-toggleable__content pre {margin: 0.2em;color: black;border-radius: 0.25em;background-color: #f0f8ff;}#sk-container-id-1 input.sk-toggleable__control:checked~div.sk-toggleable__content {max-height: 200px;max-width: 100%;overflow: auto;}#sk-container-id-1 input.sk-toggleable__control:checked~label.sk-toggleable__label-arrow:before {content: \"▾\";}#sk-container-id-1 div.sk-estimator input.sk-toggleable__control:checked~label.sk-toggleable__label {background-color: #d4ebff;}#sk-container-id-1 div.sk-label input.sk-toggleable__control:checked~label.sk-toggleable__label {background-color: #d4ebff;}#sk-container-id-1 input.sk-hidden--visually {border: 0;clip: rect(1px 1px 1px 1px);clip: rect(1px, 1px, 1px, 1px);height: 1px;margin: -1px;overflow: hidden;padding: 0;position: absolute;width: 1px;}#sk-container-id-1 div.sk-estimator {font-family: monospace;background-color: #f0f8ff;border: 1px dotted black;border-radius: 0.25em;box-sizing: border-box;margin-bottom: 0.5em;}#sk-container-id-1 div.sk-estimator:hover {background-color: #d4ebff;}#sk-container-id-1 div.sk-parallel-item::after {content: \"\";width: 100%;border-bottom: 1px solid gray;flex-grow: 1;}#sk-container-id-1 div.sk-label:hover label.sk-toggleable__label {background-color: #d4ebff;}#sk-container-id-1 div.sk-serial::before {content: \"\";position: absolute;border-left: 1px solid gray;box-sizing: border-box;top: 0;bottom: 0;left: 50%;z-index: 0;}#sk-container-id-1 div.sk-serial {display: flex;flex-direction: column;align-items: center;background-color: white;padding-right: 0.2em;padding-left: 0.2em;position: relative;}#sk-container-id-1 div.sk-item {position: relative;z-index: 1;}#sk-container-id-1 div.sk-parallel {display: flex;align-items: stretch;justify-content: center;background-color: white;position: relative;}#sk-container-id-1 div.sk-item::before, #sk-container-id-1 div.sk-parallel-item::before {content: \"\";position: absolute;border-left: 1px solid gray;box-sizing: border-box;top: 0;bottom: 0;left: 50%;z-index: -1;}#sk-container-id-1 div.sk-parallel-item {display: flex;flex-direction: column;z-index: 1;position: relative;background-color: white;}#sk-container-id-1 div.sk-parallel-item:first-child::after {align-self: flex-end;width: 50%;}#sk-container-id-1 div.sk-parallel-item:last-child::after {align-self: flex-start;width: 50%;}#sk-container-id-1 div.sk-parallel-item:only-child::after {width: 0;}#sk-container-id-1 div.sk-dashed-wrapped {border: 1px dashed gray;margin: 0 0.4em 0.5em 0.4em;box-sizing: border-box;padding-bottom: 0.4em;background-color: white;}#sk-container-id-1 div.sk-label label {font-family: monospace;font-weight: bold;display: inline-block;line-height: 1.2em;}#sk-container-id-1 div.sk-label-container {text-align: center;}#sk-container-id-1 div.sk-container {/* jupyter's `normalize.less` sets `[hidden] { display: none; }` but bootstrap.min.css set `[hidden] { display: none !important; }` so we also need the `!important` here to be able to override the default hidden behavior on the sphinx rendered scikit-learn.org. See: https://github.com/scikit-learn/scikit-learn/issues/21755 */display: inline-block !important;position: relative;}#sk-container-id-1 div.sk-text-repr-fallback {display: none;}</style><div id=\"sk-container-id-1\" class=\"sk-top-container\"><div class=\"sk-text-repr-fallback\"><pre>PCA(n_components=60)</pre><b>In a Jupyter environment, please rerun this cell to show the HTML representation or trust the notebook. <br />On GitHub, the HTML representation is unable to render, please try loading this page with nbviewer.org.</b></div><div class=\"sk-container\" hidden><div class=\"sk-item\"><div class=\"sk-estimator sk-toggleable\"><input class=\"sk-toggleable__control sk-hidden--visually\" id=\"sk-estimator-id-1\" type=\"checkbox\" checked><label for=\"sk-estimator-id-1\" class=\"sk-toggleable__label sk-toggleable__label-arrow\">PCA</label><div class=\"sk-toggleable__content\"><pre>PCA(n_components=60)</pre></div></div></div></div></div>"
      ],
      "text/plain": [
       "PCA(n_components=60)"
      ]
     },
     "execution_count": 11,
     "metadata": {},
     "output_type": "execute_result"
    }
   ],
   "source": [
    "pca = PCA(n_components=60)\n",
    "pca.fit(X_train)"
   ]
  },
  {
   "cell_type": "code",
   "execution_count": 12,
   "metadata": {
    "execution": {
     "iopub.execute_input": "2024-03-07T19:50:33.661556Z",
     "iopub.status.busy": "2024-03-07T19:50:33.661123Z",
     "iopub.status.idle": "2024-03-07T19:50:33.891041Z",
     "shell.execute_reply": "2024-03-07T19:50:33.890311Z",
     "shell.execute_reply.started": "2024-03-07T19:50:33.661520Z"
    },
    "tags": []
   },
   "outputs": [],
   "source": [
    "RF = RemoveColumnsRF()\n",
    "RF.fit(X_train, y_train)"
   ]
  },
  {
   "cell_type": "code",
   "execution_count": 13,
   "metadata": {
    "execution": {
     "iopub.execute_input": "2024-03-07T19:50:33.892812Z",
     "iopub.status.busy": "2024-03-07T19:50:33.892241Z",
     "iopub.status.idle": "2024-03-07T19:50:33.917276Z",
     "shell.execute_reply": "2024-03-07T19:50:33.916653Z",
     "shell.execute_reply.started": "2024-03-07T19:50:33.892782Z"
    },
    "tags": []
   },
   "outputs": [],
   "source": [
    "import xgboost as xgb\n",
    "from sklearn.svm import SVC\n",
    "\n",
    "from sklearn.metrics import precision_score, recall_score, f1_score\n",
    "from sklearn.metrics import roc_auc_score\n",
    "\n",
    "def model_quality(y_val, y_pred): # Оценка модели\n",
    "    # precision = precision_score(y_val, y_pred)\n",
    "    # recall = recall_score(y_val, y_pred)\n",
    "    # f1 = f1_score(y_val, y_pred)\n",
    "    rocauc = roc_auc_score(y_val, y_pred)\n",
    "    # print(f'Precision: {precision:.4f}')\n",
    "    # print(f'Recall: {recall:.4f}')\n",
    "    # print(f'F1-score: {f1:.4f}')\n",
    "    return int(rocauc * 10000)"
   ]
  },
  {
   "cell_type": "code",
   "execution_count": 14,
   "metadata": {
    "execution": {
     "iopub.execute_input": "2024-03-07T19:50:33.919200Z",
     "iopub.status.busy": "2024-03-07T19:50:33.918621Z",
     "iopub.status.idle": "2024-03-07T19:50:33.932288Z",
     "shell.execute_reply": "2024-03-07T19:50:33.931561Z",
     "shell.execute_reply.started": "2024-03-07T19:50:33.919162Z"
    },
    "tags": []
   },
   "outputs": [],
   "source": [
    "scale_pos_weight = len(y_train[y_train == 1]) / len(y_train[y_train == 0])\n",
    "\n",
    "models = [xgb.XGBClassifier(scale_pos_weight=scale_pos_weight, eval_metric='logloss'),\n",
    "          RandomForestClassifier(class_weight='balanced'), \n",
    "          SVC(kernel='linear', class_weight='balanced'),\n",
    "          SVC(kernel='poly', class_weight='balanced'),\n",
    "          SVC(kernel='rbf', class_weight='balanced'),\n",
    "          SVC(kernel='sigmoid', class_weight='balanced')\n",
    "         ]\n"
   ]
  },
  {
   "cell_type": "code",
   "execution_count": 15,
   "metadata": {
    "execution": {
     "iopub.execute_input": "2024-03-07T19:50:33.974949Z",
     "iopub.status.busy": "2024-03-07T19:50:33.974270Z",
     "iopub.status.idle": "2024-03-07T19:50:35.438521Z",
     "shell.execute_reply": "2024-03-07T19:50:35.437797Z",
     "shell.execute_reply.started": "2024-03-07T19:50:33.974905Z"
    },
    "tags": []
   },
   "outputs": [],
   "source": [
    "result = np.zeros((3, len(models)))\n",
    "\n",
    "for i, RemoveColumns in enumerate([Corr, pca, RF]):\n",
    "    X_train_smaller = RemoveColumns.transform(X_train)\n",
    "    X_val_smaller = RemoveColumns.transform(X_val)\n",
    "\n",
    "    for j, model in enumerate(models):\n",
    "        model.fit(X_train_smaller, y_train)\n",
    "        y_pred = model.predict(X_val_smaller)\n",
    "        result[i][j] = model_quality(y_val, y_pred)"
   ]
  },
  {
   "cell_type": "code",
   "execution_count": 16,
   "metadata": {
    "execution": {
     "iopub.execute_input": "2024-03-07T19:50:35.440242Z",
     "iopub.status.busy": "2024-03-07T19:50:35.439735Z",
     "iopub.status.idle": "2024-03-07T19:50:35.477304Z",
     "shell.execute_reply": "2024-03-07T19:50:35.476640Z",
     "shell.execute_reply.started": "2024-03-07T19:50:35.440208Z"
    },
    "tags": []
   },
   "outputs": [
    {
     "data": {
      "text/html": [
       "<div>\n",
       "<style scoped>\n",
       "    .dataframe tbody tr th:only-of-type {\n",
       "        vertical-align: middle;\n",
       "    }\n",
       "\n",
       "    .dataframe tbody tr th {\n",
       "        vertical-align: top;\n",
       "    }\n",
       "\n",
       "    .dataframe thead th {\n",
       "        text-align: right;\n",
       "    }\n",
       "</style>\n",
       "<table border=\"1\" class=\"dataframe\">\n",
       "  <thead>\n",
       "    <tr style=\"text-align: right;\">\n",
       "      <th></th>\n",
       "      <th>GradBoost</th>\n",
       "      <th>RF</th>\n",
       "      <th>SVC_linear</th>\n",
       "      <th>SVC_poly</th>\n",
       "      <th>SVC_rbf</th>\n",
       "      <th>SVC_sigmoid</th>\n",
       "    </tr>\n",
       "  </thead>\n",
       "  <tbody>\n",
       "    <tr>\n",
       "      <th>corr</th>\n",
       "      <td>NaN</td>\n",
       "      <td>NaN</td>\n",
       "      <td>NaN</td>\n",
       "      <td>NaN</td>\n",
       "      <td>NaN</td>\n",
       "      <td>NaN</td>\n",
       "    </tr>\n",
       "    <tr>\n",
       "      <th>pca</th>\n",
       "      <td>NaN</td>\n",
       "      <td>NaN</td>\n",
       "      <td>8386.0</td>\n",
       "      <td>8493.0</td>\n",
       "      <td>9006.0</td>\n",
       "      <td>NaN</td>\n",
       "    </tr>\n",
       "    <tr>\n",
       "      <th>rf</th>\n",
       "      <td>8295.0</td>\n",
       "      <td>NaN</td>\n",
       "      <td>NaN</td>\n",
       "      <td>NaN</td>\n",
       "      <td>8493.0</td>\n",
       "      <td>NaN</td>\n",
       "    </tr>\n",
       "  </tbody>\n",
       "</table>\n",
       "</div>"
      ],
      "text/plain": [
       "      GradBoost  RF  SVC_linear  SVC_poly  SVC_rbf  SVC_sigmoid\n",
       "corr        NaN NaN         NaN       NaN      NaN          NaN\n",
       "pca         NaN NaN      8386.0    8493.0   9006.0          NaN\n",
       "rf       8295.0 NaN         NaN       NaN   8493.0          NaN"
      ]
     },
     "execution_count": 16,
     "metadata": {},
     "output_type": "execute_result"
    }
   ],
   "source": [
    "df = pd.DataFrame(result, columns=['GradBoost', 'RF', 'SVC_linear', 'SVC_poly', 'SVC_rbf', 'SVC_sigmoid']) \n",
    "df.index = ['corr', 'pca', 'rf']\n",
    "df[df > 8200]"
   ]
  },
  {
   "cell_type": "markdown",
   "metadata": {},
   "source": [
    "Лучше всего себя показал метод опорных векторов при радиально-базисном функциональном (RBF) ядре \n",
    "при отбрасывании признаков с помощью PCA"
   ]
  },
  {
   "cell_type": "markdown",
   "metadata": {},
   "source": [
    "# Итоговая модель"
   ]
  },
  {
   "cell_type": "code",
   "execution_count": 17,
   "metadata": {
    "execution": {
     "iopub.execute_input": "2024-03-07T19:50:35.479317Z",
     "iopub.status.busy": "2024-03-07T19:50:35.478712Z",
     "iopub.status.idle": "2024-03-07T19:50:35.741232Z",
     "shell.execute_reply": "2024-03-07T19:50:35.740377Z",
     "shell.execute_reply.started": "2024-03-07T19:50:35.479288Z"
    }
   },
   "outputs": [],
   "source": [
    "# Загрузка\n",
    "X_train = dataset_train.drop(\"im\", axis=1)\n",
    "y_train = dataset_train[\"im\"] \n",
    "X_test = dataset_test\n",
    "\n",
    "# Стандартизация\n",
    "from sklearn.preprocessing import StandardScaler\n",
    "scaler = StandardScaler()\n",
    "scaler.fit(X_train)\n",
    "X_train = scaler.transform(X_train)\n",
    "X_test = scaler.transform(X_test)\n",
    "\n",
    "pca = PCA(n_components=60)\n",
    "pca.fit(X_train)\n",
    "X_train_smaller = pca.transform(X_train)\n",
    "X_test_smaller = pca.transform(X_test)\n",
    "\n",
    "model = SVC(kernel='rbf', class_weight='balanced')\n",
    "model.fit(X_train_smaller, y_train)\n",
    "\n",
    "y_pred = model.predict(X_test_smaller)"
   ]
  },
  {
   "cell_type": "code",
   "execution_count": 18,
   "metadata": {
    "execution": {
     "iopub.execute_input": "2024-03-07T19:50:35.743128Z",
     "iopub.status.busy": "2024-03-07T19:50:35.742463Z",
     "iopub.status.idle": "2024-03-07T19:50:35.762094Z",
     "shell.execute_reply": "2024-03-07T19:50:35.761261Z",
     "shell.execute_reply.started": "2024-03-07T19:50:35.743098Z"
    },
    "tags": []
   },
   "outputs": [],
   "source": [
    "# y_pred"
   ]
  },
  {
   "cell_type": "code",
   "execution_count": 19,
   "metadata": {
    "execution": {
     "iopub.execute_input": "2024-03-07T19:50:35.763948Z",
     "iopub.status.busy": "2024-03-07T19:50:35.763262Z",
     "iopub.status.idle": "2024-03-07T19:50:35.800179Z",
     "shell.execute_reply": "2024-03-07T19:50:35.799214Z",
     "shell.execute_reply.started": "2024-03-07T19:50:35.763912Z"
    },
    "tags": []
   },
   "outputs": [
    {
     "data": {
      "text/html": [
       "<div>\n",
       "<style scoped>\n",
       "    .dataframe tbody tr th:only-of-type {\n",
       "        vertical-align: middle;\n",
       "    }\n",
       "\n",
       "    .dataframe tbody tr th {\n",
       "        vertical-align: top;\n",
       "    }\n",
       "\n",
       "    .dataframe thead th {\n",
       "        text-align: right;\n",
       "    }\n",
       "</style>\n",
       "<table border=\"1\" class=\"dataframe\">\n",
       "  <thead>\n",
       "    <tr style=\"text-align: right;\">\n",
       "      <th></th>\n",
       "      <th></th>\n",
       "      <th>im</th>\n",
       "    </tr>\n",
       "  </thead>\n",
       "  <tbody>\n",
       "    <tr>\n",
       "      <th>0</th>\n",
       "      <td>0</td>\n",
       "      <td>0.0</td>\n",
       "    </tr>\n",
       "    <tr>\n",
       "      <th>1</th>\n",
       "      <td>1</td>\n",
       "      <td>1.0</td>\n",
       "    </tr>\n",
       "    <tr>\n",
       "      <th>2</th>\n",
       "      <td>2</td>\n",
       "      <td>0.0</td>\n",
       "    </tr>\n",
       "    <tr>\n",
       "      <th>3</th>\n",
       "      <td>3</td>\n",
       "      <td>0.0</td>\n",
       "    </tr>\n",
       "    <tr>\n",
       "      <th>4</th>\n",
       "      <td>4</td>\n",
       "      <td>0.0</td>\n",
       "    </tr>\n",
       "  </tbody>\n",
       "</table>\n",
       "</div>"
      ],
      "text/plain": [
       "       im\n",
       "0  0  0.0\n",
       "1  1  1.0\n",
       "2  2  0.0\n",
       "3  3  0.0\n",
       "4  4  0.0"
      ]
     },
     "execution_count": 19,
     "metadata": {},
     "output_type": "execute_result"
    }
   ],
   "source": [
    "# Создаем DataFrame из y_pred\n",
    "df = pd.DataFrame(y_pred, columns=['y_pred'])\n",
    "\n",
    "# Добавляем колонку с индексами, если нужно\n",
    "df.reset_index(inplace=True)\n",
    "\n",
    "# Переименовываем колонки для ясности, если это необходимо\n",
    "df.columns = ['', 'im']\n",
    "\n",
    "# Сохраняем DataFrame в файл CSV\n",
    "df.to_csv('predictions.csv', index=False)\n",
    "\n",
    "df.head()"
   ]
  }
 ],
 "metadata": {
  "kernelspec": {
   "display_name": "DataSphere Kernel",
   "language": "python",
   "name": "python3"
  },
  "language_info": {
   "codemirror_mode": {
    "name": "ipython",
    "version": 3
   },
   "file_extension": ".py",
   "mimetype": "text/x-python",
   "name": "python",
   "nbconvert_exporter": "python",
   "pygments_lexer": "ipython3",
   "version": "3.7.7"
  },
  "notebookId": "9c48be40-b234-48dc-b300-7d064e09147d",
  "notebookPath": "Lab1 - CV + NLP/lab4_real_master.ipynb",
  "ydsNotebookPath": "Lab1 - CV + NLP/lab1_master.ipynb"
 },
 "nbformat": 4,
 "nbformat_minor": 4
}
